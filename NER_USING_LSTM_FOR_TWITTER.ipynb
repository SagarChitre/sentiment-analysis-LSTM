{
  "nbformat": 4,
  "nbformat_minor": 0,
  "metadata": {
    "colab": {
      "provenance": []
    },
    "kernelspec": {
      "name": "python3",
      "display_name": "Python 3"
    },
    "language_info": {
      "name": "python"
    }
  },
  "cells": [
    {
      "cell_type": "code",
      "metadata": {
        "id": "3U1RZBST6qEY"
      },
      "source": [
        "import numpy as np\n",
        "import pandas as pd"
      ],
      "execution_count": null,
      "outputs": []
    },
    {
      "cell_type": "code",
      "metadata": {
        "id": "OK1PSKN87HQZ"
      },
      "source": [
        "import random\n",
        "\n",
        "from sklearn.metrics import classification_report\n",
        "import os\n",
        "from sklearn.model_selection import train_test_split\n",
        "\n",
        "import tensorflow as tf"
      ],
      "execution_count": null,
      "outputs": []
    },
    {
      "cell_type": "markdown",
      "metadata": {
        "id": "lEJHcial7wmp"
      },
      "source": [
        "**Exploring the Dataset**"
      ]
    },
    {
      "cell_type": "code",
      "metadata": {
        "id": "UWCCQLOI7jjy",
        "colab": {
          "base_uri": "https://localhost:8080/",
          "height": 357
        },
        "outputId": "c28a7192-1326-423c-8938-e5fbfbf9d6a1"
      },
      "source": [
        "data=pd.read_csv(\"ner_dataset.csv\",encoding=\"latin1\")\n",
        "data.head(10)"
      ],
      "execution_count": null,
      "outputs": [
        {
          "output_type": "execute_result",
          "data": {
            "text/html": [
              "<div>\n",
              "<style scoped>\n",
              "    .dataframe tbody tr th:only-of-type {\n",
              "        vertical-align: middle;\n",
              "    }\n",
              "\n",
              "    .dataframe tbody tr th {\n",
              "        vertical-align: top;\n",
              "    }\n",
              "\n",
              "    .dataframe thead th {\n",
              "        text-align: right;\n",
              "    }\n",
              "</style>\n",
              "<table border=\"1\" class=\"dataframe\">\n",
              "  <thead>\n",
              "    <tr style=\"text-align: right;\">\n",
              "      <th></th>\n",
              "      <th>Sentence #</th>\n",
              "      <th>Word</th>\n",
              "      <th>POS</th>\n",
              "      <th>Tag</th>\n",
              "    </tr>\n",
              "  </thead>\n",
              "  <tbody>\n",
              "    <tr>\n",
              "      <th>0</th>\n",
              "      <td>Sentence: 1</td>\n",
              "      <td>Thousands</td>\n",
              "      <td>NNS</td>\n",
              "      <td>O</td>\n",
              "    </tr>\n",
              "    <tr>\n",
              "      <th>1</th>\n",
              "      <td>NaN</td>\n",
              "      <td>of</td>\n",
              "      <td>IN</td>\n",
              "      <td>O</td>\n",
              "    </tr>\n",
              "    <tr>\n",
              "      <th>2</th>\n",
              "      <td>NaN</td>\n",
              "      <td>demonstrators</td>\n",
              "      <td>NNS</td>\n",
              "      <td>O</td>\n",
              "    </tr>\n",
              "    <tr>\n",
              "      <th>3</th>\n",
              "      <td>NaN</td>\n",
              "      <td>have</td>\n",
              "      <td>VBP</td>\n",
              "      <td>O</td>\n",
              "    </tr>\n",
              "    <tr>\n",
              "      <th>4</th>\n",
              "      <td>NaN</td>\n",
              "      <td>marched</td>\n",
              "      <td>VBN</td>\n",
              "      <td>O</td>\n",
              "    </tr>\n",
              "    <tr>\n",
              "      <th>5</th>\n",
              "      <td>NaN</td>\n",
              "      <td>through</td>\n",
              "      <td>IN</td>\n",
              "      <td>O</td>\n",
              "    </tr>\n",
              "    <tr>\n",
              "      <th>6</th>\n",
              "      <td>NaN</td>\n",
              "      <td>London</td>\n",
              "      <td>NNP</td>\n",
              "      <td>B-geo</td>\n",
              "    </tr>\n",
              "    <tr>\n",
              "      <th>7</th>\n",
              "      <td>NaN</td>\n",
              "      <td>to</td>\n",
              "      <td>TO</td>\n",
              "      <td>O</td>\n",
              "    </tr>\n",
              "    <tr>\n",
              "      <th>8</th>\n",
              "      <td>NaN</td>\n",
              "      <td>protest</td>\n",
              "      <td>VB</td>\n",
              "      <td>O</td>\n",
              "    </tr>\n",
              "    <tr>\n",
              "      <th>9</th>\n",
              "      <td>NaN</td>\n",
              "      <td>the</td>\n",
              "      <td>DT</td>\n",
              "      <td>O</td>\n",
              "    </tr>\n",
              "  </tbody>\n",
              "</table>\n",
              "</div>"
            ],
            "text/plain": [
              "    Sentence #           Word  POS    Tag\n",
              "0  Sentence: 1      Thousands  NNS      O\n",
              "1          NaN             of   IN      O\n",
              "2          NaN  demonstrators  NNS      O\n",
              "3          NaN           have  VBP      O\n",
              "4          NaN        marched  VBN      O\n",
              "5          NaN        through   IN      O\n",
              "6          NaN         London  NNP  B-geo\n",
              "7          NaN             to   TO      O\n",
              "8          NaN        protest   VB      O\n",
              "9          NaN            the   DT      O"
            ]
          },
          "metadata": {},
          "execution_count": 5
        }
      ]
    },
    {
      "cell_type": "code",
      "metadata": {
        "id": "tCd8l1wb7uch",
        "colab": {
          "base_uri": "https://localhost:8080/",
          "height": 203
        },
        "outputId": "81204913-2f7c-4ffc-ae07-202de4f743e5"
      },
      "source": [
        "data['Sentence #']=data['Sentence #'].ffill(axis = 0)\n",
        "data.head()"
      ],
      "execution_count": null,
      "outputs": [
        {
          "output_type": "execute_result",
          "data": {
            "text/html": [
              "<div>\n",
              "<style scoped>\n",
              "    .dataframe tbody tr th:only-of-type {\n",
              "        vertical-align: middle;\n",
              "    }\n",
              "\n",
              "    .dataframe tbody tr th {\n",
              "        vertical-align: top;\n",
              "    }\n",
              "\n",
              "    .dataframe thead th {\n",
              "        text-align: right;\n",
              "    }\n",
              "</style>\n",
              "<table border=\"1\" class=\"dataframe\">\n",
              "  <thead>\n",
              "    <tr style=\"text-align: right;\">\n",
              "      <th></th>\n",
              "      <th>Sentence #</th>\n",
              "      <th>Word</th>\n",
              "      <th>POS</th>\n",
              "      <th>Tag</th>\n",
              "    </tr>\n",
              "  </thead>\n",
              "  <tbody>\n",
              "    <tr>\n",
              "      <th>0</th>\n",
              "      <td>Sentence: 1</td>\n",
              "      <td>Thousands</td>\n",
              "      <td>NNS</td>\n",
              "      <td>O</td>\n",
              "    </tr>\n",
              "    <tr>\n",
              "      <th>1</th>\n",
              "      <td>Sentence: 1</td>\n",
              "      <td>of</td>\n",
              "      <td>IN</td>\n",
              "      <td>O</td>\n",
              "    </tr>\n",
              "    <tr>\n",
              "      <th>2</th>\n",
              "      <td>Sentence: 1</td>\n",
              "      <td>demonstrators</td>\n",
              "      <td>NNS</td>\n",
              "      <td>O</td>\n",
              "    </tr>\n",
              "    <tr>\n",
              "      <th>3</th>\n",
              "      <td>Sentence: 1</td>\n",
              "      <td>have</td>\n",
              "      <td>VBP</td>\n",
              "      <td>O</td>\n",
              "    </tr>\n",
              "    <tr>\n",
              "      <th>4</th>\n",
              "      <td>Sentence: 1</td>\n",
              "      <td>marched</td>\n",
              "      <td>VBN</td>\n",
              "      <td>O</td>\n",
              "    </tr>\n",
              "  </tbody>\n",
              "</table>\n",
              "</div>"
            ],
            "text/plain": [
              "    Sentence #           Word  POS Tag\n",
              "0  Sentence: 1      Thousands  NNS   O\n",
              "1  Sentence: 1             of   IN   O\n",
              "2  Sentence: 1  demonstrators  NNS   O\n",
              "3  Sentence: 1           have  VBP   O\n",
              "4  Sentence: 1        marched  VBN   O"
            ]
          },
          "metadata": {},
          "execution_count": 6
        }
      ]
    },
    {
      "cell_type": "code",
      "metadata": {
        "id": "FCA0_Mqa8Ssc"
      },
      "source": [
        "agg_func = lambda s: [(w,p, t) for w,p, t in zip(s[\"Word\"].values.tolist(),\n",
        "                                                       s['POS'].values.tolist(),\n",
        "                                                        s[\"Tag\"].values.tolist())]"
      ],
      "execution_count": null,
      "outputs": []
    },
    {
      "cell_type": "code",
      "metadata": {
        "id": "TiwS2vxu8fMS",
        "colab": {
          "base_uri": "https://localhost:8080/",
          "height": 203
        },
        "outputId": "e09a1c36-0d6e-4f01-c4d7-b7d017b1e7da"
      },
      "source": [
        "agg_data=data.groupby(['Sentence #']).apply(agg_func).reset_index().rename(columns={0:'Sentence_POS_Tag_Pair'})\n",
        "agg_data.head()"
      ],
      "execution_count": null,
      "outputs": [
        {
          "output_type": "execute_result",
          "data": {
            "text/html": [
              "<div>\n",
              "<style scoped>\n",
              "    .dataframe tbody tr th:only-of-type {\n",
              "        vertical-align: middle;\n",
              "    }\n",
              "\n",
              "    .dataframe tbody tr th {\n",
              "        vertical-align: top;\n",
              "    }\n",
              "\n",
              "    .dataframe thead th {\n",
              "        text-align: right;\n",
              "    }\n",
              "</style>\n",
              "<table border=\"1\" class=\"dataframe\">\n",
              "  <thead>\n",
              "    <tr style=\"text-align: right;\">\n",
              "      <th></th>\n",
              "      <th>Sentence #</th>\n",
              "      <th>Sentence_POS_Tag_Pair</th>\n",
              "    </tr>\n",
              "  </thead>\n",
              "  <tbody>\n",
              "    <tr>\n",
              "      <th>0</th>\n",
              "      <td>Sentence: 1</td>\n",
              "      <td>[(Thousands, NNS, O), (of, IN, O), (demonstrat...</td>\n",
              "    </tr>\n",
              "    <tr>\n",
              "      <th>1</th>\n",
              "      <td>Sentence: 10</td>\n",
              "      <td>[(Iranian, JJ, B-gpe), (officials, NNS, O), (s...</td>\n",
              "    </tr>\n",
              "    <tr>\n",
              "      <th>2</th>\n",
              "      <td>Sentence: 100</td>\n",
              "      <td>[(Helicopter, NN, O), (gunships, NNS, O), (Sat...</td>\n",
              "    </tr>\n",
              "    <tr>\n",
              "      <th>3</th>\n",
              "      <td>Sentence: 1000</td>\n",
              "      <td>[(They, PRP, O), (left, VBD, O), (after, IN, O...</td>\n",
              "    </tr>\n",
              "    <tr>\n",
              "      <th>4</th>\n",
              "      <td>Sentence: 1001</td>\n",
              "      <td>[(The, DT, O), (global, JJ, O), (financial, JJ...</td>\n",
              "    </tr>\n",
              "  </tbody>\n",
              "</table>\n",
              "</div>"
            ],
            "text/plain": [
              "       Sentence #                              Sentence_POS_Tag_Pair\n",
              "0     Sentence: 1  [(Thousands, NNS, O), (of, IN, O), (demonstrat...\n",
              "1    Sentence: 10  [(Iranian, JJ, B-gpe), (officials, NNS, O), (s...\n",
              "2   Sentence: 100  [(Helicopter, NN, O), (gunships, NNS, O), (Sat...\n",
              "3  Sentence: 1000  [(They, PRP, O), (left, VBD, O), (after, IN, O...\n",
              "4  Sentence: 1001  [(The, DT, O), (global, JJ, O), (financial, JJ..."
            ]
          },
          "metadata": {},
          "execution_count": 8
        }
      ]
    },
    {
      "cell_type": "code",
      "metadata": {
        "id": "Gf7Mrsw58lJ0"
      },
      "source": [
        "agg_data['Sentence']=agg_data['Sentence_POS_Tag_Pair'].apply(lambda sentence:\" \".join([s[0] for s in sentence]))\n",
        "agg_data['POS']=agg_data['Sentence_POS_Tag_Pair'].apply(lambda sentence:\" \".join([s[1] for s in sentence]))\n",
        "agg_data['Tag']=agg_data['Sentence_POS_Tag_Pair'].apply(lambda sentence:\" \".join([s[2] for s in sentence]))"
      ],
      "execution_count": null,
      "outputs": []
    },
    {
      "cell_type": "code",
      "metadata": {
        "id": "W9vDr1s780lh",
        "colab": {
          "base_uri": "https://localhost:8080/",
          "height": 287
        },
        "outputId": "8cb065e8-a9f7-4b2a-a5f2-bff76946d0bb"
      },
      "source": [
        "agg_data.head()"
      ],
      "execution_count": null,
      "outputs": [
        {
          "output_type": "execute_result",
          "data": {
            "text/html": [
              "<div>\n",
              "<style scoped>\n",
              "    .dataframe tbody tr th:only-of-type {\n",
              "        vertical-align: middle;\n",
              "    }\n",
              "\n",
              "    .dataframe tbody tr th {\n",
              "        vertical-align: top;\n",
              "    }\n",
              "\n",
              "    .dataframe thead th {\n",
              "        text-align: right;\n",
              "    }\n",
              "</style>\n",
              "<table border=\"1\" class=\"dataframe\">\n",
              "  <thead>\n",
              "    <tr style=\"text-align: right;\">\n",
              "      <th></th>\n",
              "      <th>Sentence #</th>\n",
              "      <th>Sentence_POS_Tag_Pair</th>\n",
              "      <th>Sentence</th>\n",
              "      <th>POS</th>\n",
              "      <th>Tag</th>\n",
              "    </tr>\n",
              "  </thead>\n",
              "  <tbody>\n",
              "    <tr>\n",
              "      <th>0</th>\n",
              "      <td>Sentence: 1</td>\n",
              "      <td>[(Thousands, NNS, O), (of, IN, O), (demonstrat...</td>\n",
              "      <td>Thousands of demonstrators have marched throug...</td>\n",
              "      <td>NNS IN NNS VBP VBN IN NNP TO VB DT NN IN NNP C...</td>\n",
              "      <td>O O O O O O B-geo O O O O O B-geo O O O O O B-...</td>\n",
              "    </tr>\n",
              "    <tr>\n",
              "      <th>1</th>\n",
              "      <td>Sentence: 10</td>\n",
              "      <td>[(Iranian, JJ, B-gpe), (officials, NNS, O), (s...</td>\n",
              "      <td>Iranian officials say they expect to get acces...</td>\n",
              "      <td>JJ NNS VBP PRP VBP TO VB NN TO JJ JJ NNS IN DT...</td>\n",
              "      <td>B-gpe O O O O O O O O O O O O O O B-tim O O O ...</td>\n",
              "    </tr>\n",
              "    <tr>\n",
              "      <th>2</th>\n",
              "      <td>Sentence: 100</td>\n",
              "      <td>[(Helicopter, NN, O), (gunships, NNS, O), (Sat...</td>\n",
              "      <td>Helicopter gunships Saturday pounded militant ...</td>\n",
              "      <td>NN NNS NNP VBD JJ NNS IN DT NNP JJ NN , WRB JJ...</td>\n",
              "      <td>O O B-tim O O O O O B-geo O O O O O B-org O O ...</td>\n",
              "    </tr>\n",
              "    <tr>\n",
              "      <th>3</th>\n",
              "      <td>Sentence: 1000</td>\n",
              "      <td>[(They, PRP, O), (left, VBD, O), (after, IN, O...</td>\n",
              "      <td>They left after a tense hour-long standoff wit...</td>\n",
              "      <td>PRP VBD IN DT NN JJ NN IN NN NNS .</td>\n",
              "      <td>O O O O O O O O O O O</td>\n",
              "    </tr>\n",
              "    <tr>\n",
              "      <th>4</th>\n",
              "      <td>Sentence: 1001</td>\n",
              "      <td>[(The, DT, O), (global, JJ, O), (financial, JJ...</td>\n",
              "      <td>The global financial crisis has left Iceland '...</td>\n",
              "      <td>DT JJ JJ NN VBZ VBN NNP POS NN IN NNS .</td>\n",
              "      <td>O O O O O O B-org O O O O O</td>\n",
              "    </tr>\n",
              "  </tbody>\n",
              "</table>\n",
              "</div>"
            ],
            "text/plain": [
              "       Sentence #  ...                                                Tag\n",
              "0     Sentence: 1  ...  O O O O O O B-geo O O O O O B-geo O O O O O B-...\n",
              "1    Sentence: 10  ...  B-gpe O O O O O O O O O O O O O O B-tim O O O ...\n",
              "2   Sentence: 100  ...  O O B-tim O O O O O B-geo O O O O O B-org O O ...\n",
              "3  Sentence: 1000  ...                              O O O O O O O O O O O\n",
              "4  Sentence: 1001  ...                        O O O O O O B-org O O O O O\n",
              "\n",
              "[5 rows x 5 columns]"
            ]
          },
          "metadata": {},
          "execution_count": 11
        }
      ]
    },
    {
      "cell_type": "code",
      "metadata": {
        "id": "eooG3vpc8qLr",
        "colab": {
          "base_uri": "https://localhost:8080/"
        },
        "outputId": "a722866e-0156-4728-be32-8ce49bd3b9dc"
      },
      "source": [
        "agg_data.shape"
      ],
      "execution_count": null,
      "outputs": [
        {
          "output_type": "execute_result",
          "data": {
            "text/plain": [
              "(9968, 5)"
            ]
          },
          "metadata": {},
          "execution_count": 10
        }
      ]
    },
    {
      "cell_type": "code",
      "metadata": {
        "id": "LhVbANv38_Jc",
        "colab": {
          "base_uri": "https://localhost:8080/",
          "height": 388
        },
        "outputId": "2d01a621-0e59-45ff-c73f-e61970d40ae3"
      },
      "source": [
        "agg_data['tokenised_sentences']=agg_data['Sentence'].apply(lambda x:x.split())\n",
        "agg_data['tag_list']=agg_data['Tag'].apply(lambda x:x.split())\n",
        "agg_data.head()"
      ],
      "execution_count": null,
      "outputs": [
        {
          "output_type": "execute_result",
          "data": {
            "text/html": [
              "<div>\n",
              "<style scoped>\n",
              "    .dataframe tbody tr th:only-of-type {\n",
              "        vertical-align: middle;\n",
              "    }\n",
              "\n",
              "    .dataframe tbody tr th {\n",
              "        vertical-align: top;\n",
              "    }\n",
              "\n",
              "    .dataframe thead th {\n",
              "        text-align: right;\n",
              "    }\n",
              "</style>\n",
              "<table border=\"1\" class=\"dataframe\">\n",
              "  <thead>\n",
              "    <tr style=\"text-align: right;\">\n",
              "      <th></th>\n",
              "      <th>Sentence #</th>\n",
              "      <th>Sentence_POS_Tag_Pair</th>\n",
              "      <th>Sentence</th>\n",
              "      <th>POS</th>\n",
              "      <th>Tag</th>\n",
              "      <th>tokenised_sentences</th>\n",
              "      <th>tag_list</th>\n",
              "    </tr>\n",
              "  </thead>\n",
              "  <tbody>\n",
              "    <tr>\n",
              "      <th>0</th>\n",
              "      <td>Sentence: 1</td>\n",
              "      <td>[(Thousands, NNS, O), (of, IN, O), (demonstrat...</td>\n",
              "      <td>Thousands of demonstrators have marched throug...</td>\n",
              "      <td>NNS IN NNS VBP VBN IN NNP TO VB DT NN IN NNP C...</td>\n",
              "      <td>O O O O O O B-geo O O O O O B-geo O O O O O B-...</td>\n",
              "      <td>[Thousands, of, demonstrators, have, marched, ...</td>\n",
              "      <td>[O, O, O, O, O, O, B-geo, O, O, O, O, O, B-geo...</td>\n",
              "    </tr>\n",
              "    <tr>\n",
              "      <th>1</th>\n",
              "      <td>Sentence: 10</td>\n",
              "      <td>[(Iranian, JJ, B-gpe), (officials, NNS, O), (s...</td>\n",
              "      <td>Iranian officials say they expect to get acces...</td>\n",
              "      <td>JJ NNS VBP PRP VBP TO VB NN TO JJ JJ NNS IN DT...</td>\n",
              "      <td>B-gpe O O O O O O O O O O O O O O B-tim O O O ...</td>\n",
              "      <td>[Iranian, officials, say, they, expect, to, ge...</td>\n",
              "      <td>[B-gpe, O, O, O, O, O, O, O, O, O, O, O, O, O,...</td>\n",
              "    </tr>\n",
              "    <tr>\n",
              "      <th>2</th>\n",
              "      <td>Sentence: 100</td>\n",
              "      <td>[(Helicopter, NN, O), (gunships, NNS, O), (Sat...</td>\n",
              "      <td>Helicopter gunships Saturday pounded militant ...</td>\n",
              "      <td>NN NNS NNP VBD JJ NNS IN DT NNP JJ NN , WRB JJ...</td>\n",
              "      <td>O O B-tim O O O O O B-geo O O O O O B-org O O ...</td>\n",
              "      <td>[Helicopter, gunships, Saturday, pounded, mili...</td>\n",
              "      <td>[O, O, B-tim, O, O, O, O, O, B-geo, O, O, O, O...</td>\n",
              "    </tr>\n",
              "    <tr>\n",
              "      <th>3</th>\n",
              "      <td>Sentence: 1000</td>\n",
              "      <td>[(They, PRP, O), (left, VBD, O), (after, IN, O...</td>\n",
              "      <td>They left after a tense hour-long standoff wit...</td>\n",
              "      <td>PRP VBD IN DT NN JJ NN IN NN NNS .</td>\n",
              "      <td>O O O O O O O O O O O</td>\n",
              "      <td>[They, left, after, a, tense, hour-long, stand...</td>\n",
              "      <td>[O, O, O, O, O, O, O, O, O, O, O]</td>\n",
              "    </tr>\n",
              "    <tr>\n",
              "      <th>4</th>\n",
              "      <td>Sentence: 1001</td>\n",
              "      <td>[(The, DT, O), (global, JJ, O), (financial, JJ...</td>\n",
              "      <td>The global financial crisis has left Iceland '...</td>\n",
              "      <td>DT JJ JJ NN VBZ VBN NNP POS NN IN NNS .</td>\n",
              "      <td>O O O O O O B-org O O O O O</td>\n",
              "      <td>[The, global, financial, crisis, has, left, Ic...</td>\n",
              "      <td>[O, O, O, O, O, O, B-org, O, O, O, O, O]</td>\n",
              "    </tr>\n",
              "  </tbody>\n",
              "</table>\n",
              "</div>"
            ],
            "text/plain": [
              "       Sentence #  ...                                           tag_list\n",
              "0     Sentence: 1  ...  [O, O, O, O, O, O, B-geo, O, O, O, O, O, B-geo...\n",
              "1    Sentence: 10  ...  [B-gpe, O, O, O, O, O, O, O, O, O, O, O, O, O,...\n",
              "2   Sentence: 100  ...  [O, O, B-tim, O, O, O, O, O, B-geo, O, O, O, O...\n",
              "3  Sentence: 1000  ...                  [O, O, O, O, O, O, O, O, O, O, O]\n",
              "4  Sentence: 1001  ...           [O, O, O, O, O, O, B-org, O, O, O, O, O]\n",
              "\n",
              "[5 rows x 7 columns]"
            ]
          },
          "metadata": {},
          "execution_count": 12
        }
      ]
    },
    {
      "cell_type": "code",
      "metadata": {
        "id": "_C_ozptF9Bcb",
        "colab": {
          "base_uri": "https://localhost:8080/"
        },
        "outputId": "8b19b180-bbc2-4ba0-9ea0-e918cfc50b20"
      },
      "source": [
        "agg_data['len_sentence']=agg_data['tokenised_sentences'].apply(lambda x:len(x))\n",
        "agg_data['len_tag']=agg_data['tag_list'].apply(lambda x:len(x))\n",
        "agg_data['is_equal']=agg_data.apply(lambda row:1 if row['len_sentence']==row['len_tag'] else 0,axis=1)\n",
        "agg_data['is_equal'].value_counts()"
      ],
      "execution_count": null,
      "outputs": [
        {
          "output_type": "execute_result",
          "data": {
            "text/plain": [
              "1    9967\n",
              "0       1\n",
              "Name: is_equal, dtype: int64"
            ]
          },
          "metadata": {},
          "execution_count": 13
        }
      ]
    },
    {
      "cell_type": "code",
      "metadata": {
        "id": "irnm0zgl9H_x"
      },
      "source": [
        "agg_data=agg_data[agg_data['is_equal']!=0]"
      ],
      "execution_count": null,
      "outputs": []
    },
    {
      "cell_type": "code",
      "metadata": {
        "id": "GfHEkpxu9Lla",
        "colab": {
          "base_uri": "https://localhost:8080/"
        },
        "outputId": "02da1b52-89d7-4f28-ead2-e9f6f2f3a6a6"
      },
      "source": [
        "agg_data.shape"
      ],
      "execution_count": null,
      "outputs": [
        {
          "output_type": "execute_result",
          "data": {
            "text/plain": [
              "(9967, 10)"
            ]
          },
          "metadata": {},
          "execution_count": 15
        }
      ]
    },
    {
      "cell_type": "code",
      "metadata": {
        "id": "VcSC_pg__J7C",
        "colab": {
          "base_uri": "https://localhost:8080/"
        },
        "outputId": "e1f8f364-d132-432a-b49b-9d6a58d542f9"
      },
      "source": [
        "sentences_list=agg_data['Sentence'].tolist()\n",
        "tags_list=agg_data['tag_list'].tolist()\n",
        "\n",
        "print(\"Number of Sentences in the Data \",len(sentences_list))\n",
        "print(\"Are number of Sentences and Tag list equal \",len(sentences_list)==len(tags_list))"
      ],
      "execution_count": null,
      "outputs": [
        {
          "output_type": "stream",
          "name": "stdout",
          "text": [
            "Number of Sentences in the Data  9967\n",
            "Are number of Sentences and Tag list equal  True\n"
          ]
        }
      ]
    },
    {
      "cell_type": "code",
      "metadata": {
        "id": "zpzXmjK79O8Z",
        "colab": {
          "base_uri": "https://localhost:8080/"
        },
        "outputId": "74d63524-6a2a-4311-f718-b91a45352442"
      },
      "source": [
        "sentences_list=agg_data['Sentence'].tolist()\n",
        "tags_list=agg_data['tag_list'].tolist()\n",
        "\n",
        "print(\"Number of Sentences in the Data \",len(sentences_list))\n",
        "print(\"Are number of Sentences and Tag list equal \",len(sentences_list)==len(tags_list))"
      ],
      "execution_count": null,
      "outputs": [
        {
          "output_type": "stream",
          "name": "stdout",
          "text": [
            "Number of Sentences in the Data  9967\n",
            "Are number of Sentences and Tag list equal  True\n"
          ]
        }
      ]
    },
    {
      "cell_type": "code",
      "metadata": {
        "id": "v3zWK6iq9Tj7",
        "colab": {
          "base_uri": "https://localhost:8080/"
        },
        "outputId": "41d7ecd9-8081-41e0-f438-bf04c0cb3c6c"
      },
      "source": [
        "tags_list[0]"
      ],
      "execution_count": null,
      "outputs": [
        {
          "output_type": "execute_result",
          "data": {
            "text/plain": [
              "['O',\n",
              " 'O',\n",
              " 'O',\n",
              " 'O',\n",
              " 'O',\n",
              " 'O',\n",
              " 'B-geo',\n",
              " 'O',\n",
              " 'O',\n",
              " 'O',\n",
              " 'O',\n",
              " 'O',\n",
              " 'B-geo',\n",
              " 'O',\n",
              " 'O',\n",
              " 'O',\n",
              " 'O',\n",
              " 'O',\n",
              " 'B-gpe',\n",
              " 'O',\n",
              " 'O',\n",
              " 'O',\n",
              " 'O',\n",
              " 'O']"
            ]
          },
          "metadata": {},
          "execution_count": 18
        }
      ]
    },
    {
      "cell_type": "code",
      "metadata": {
        "id": "-mp9mLoT9W4h"
      },
      "source": [
        "tokeniser= tf.keras.preprocessing.text.Tokenizer(lower=False,filters='')\n",
        "\n",
        "tokeniser.fit_on_texts(sentences_list)"
      ],
      "execution_count": null,
      "outputs": []
    },
    {
      "cell_type": "code",
      "metadata": {
        "id": "ZsI9nPB19ehF",
        "colab": {
          "base_uri": "https://localhost:8080/"
        },
        "outputId": "f6390169-84a6-4944-d3e3-644f90d59bc5"
      },
      "source": [
        "print(\"Vocab size of Tokeniser \",len(tokeniser.word_index)+1) ## Adding one since 0 is reserved for padding"
      ],
      "execution_count": null,
      "outputs": [
        {
          "output_type": "stream",
          "name": "stdout",
          "text": [
            "Vocab size of Tokeniser  16247\n"
          ]
        }
      ]
    },
    {
      "cell_type": "code",
      "metadata": {
        "id": "z4iDwOoJ9h3N",
        "colab": {
          "base_uri": "https://localhost:8080/",
          "height": 35
        },
        "outputId": "372f4e4b-172e-4291-a6b3-ee914c01b1dc"
      },
      "source": [
        "tokeniser.index_word[326]"
      ],
      "execution_count": null,
      "outputs": [
        {
          "output_type": "execute_result",
          "data": {
            "application/vnd.google.colaboratory.intrinsic+json": {
              "type": "string"
            },
            "text/plain": [
              "'Earlier'"
            ]
          },
          "metadata": {},
          "execution_count": 21
        }
      ]
    },
    {
      "cell_type": "code",
      "metadata": {
        "id": "1mZbymU29lHg",
        "colab": {
          "base_uri": "https://localhost:8080/"
        },
        "outputId": "c44143db-db2e-4eac-8324-d509234842ee"
      },
      "source": [
        "encoded_sentence=tokeniser.texts_to_sequences(sentences_list)\n",
        "print(\"First Original Sentence \",sentences_list[0])\n",
        "print(\"First Encoded Sentence \",encoded_sentence[0])\n",
        "print(\"Is Length of Original Sentence Same as Encoded Sentence \",len(sentences_list[0].split())==len(encoded_sentence[0]))\n",
        "print(\"Length of First Sentence \",len(encoded_sentence[0]))"
      ],
      "execution_count": null,
      "outputs": [
        {
          "output_type": "stream",
          "name": "stdout",
          "text": [
            "First Original Sentence  Thousands of demonstrators have marched through London to protest the war in Iraq and demand the withdrawal of British troops from that country .\n",
            "First Encoded Sentence  [1096, 5, 1220, 16, 2023, 250, 622, 6, 520, 1, 174, 4, 56, 8, 860, 1, 941, 5, 189, 110, 21, 15, 52, 2]\n",
            "Is Length of Original Sentence Same as Encoded Sentence  True\n",
            "Length of First Sentence  24\n"
          ]
        }
      ]
    },
    {
      "cell_type": "code",
      "metadata": {
        "id": "3Y6TL_Cn9sUT",
        "colab": {
          "base_uri": "https://localhost:8080/"
        },
        "outputId": "3b582a97-eb3d-49c0-830f-1f85eb2ca0f6"
      },
      "source": [
        "tags=list(set(data['Tag'].values))\n",
        "print(tags)\n",
        "num_tags=len(tags)\n",
        "print(\"Number of Tags \",num_tags)\n",
        "\n",
        "tags_map={tag:i for i,tag in enumerate(tags)}\n",
        "print(\"Tags Map \",tags_map)"
      ],
      "execution_count": null,
      "outputs": [
        {
          "output_type": "stream",
          "name": "stdout",
          "text": [
            "['B-per', 'I-gpe', 'I-tim', 'I-eve', 'B-nat', 'I-org', 'O', 'I-geo', 'B-org', 'B-geo', 'B-tim', 'B-art', 'I-nat', 'B-eve', 'B-gpe', 'I-per', 'I-art']\n",
            "Number of Tags  17\n",
            "Tags Map  {'B-per': 0, 'I-gpe': 1, 'I-tim': 2, 'I-eve': 3, 'B-nat': 4, 'I-org': 5, 'O': 6, 'I-geo': 7, 'B-org': 8, 'B-geo': 9, 'B-tim': 10, 'B-art': 11, 'I-nat': 12, 'B-eve': 13, 'B-gpe': 14, 'I-per': 15, 'I-art': 16}\n"
          ]
        }
      ]
    },
    {
      "cell_type": "code",
      "metadata": {
        "id": "JwjA2ZIr9vR1"
      },
      "source": [
        "reverse_tag_map={v: k for k, v in tags_map.items()}"
      ],
      "execution_count": null,
      "outputs": []
    },
    {
      "cell_type": "code",
      "metadata": {
        "id": "VWS-VNUPACo2",
        "colab": {
          "base_uri": "https://localhost:8080/"
        },
        "outputId": "70b05763-145d-43b2-a1c9-84eb50557813"
      },
      "source": [
        "encoded_tags=[[tags_map[w] for w in tag] for tag in tags_list]\n",
        "print(\"First Sentence \",sentences_list[0])\n",
        "print('First Sentence Original Tags ',tags_list[0])\n",
        "print(\"First Sentence Encoded Tags \",encoded_tags[0])\n",
        "print(\"Is length of Original Tags and Encoded Tags same \",len(tags_list[0])==len(encoded_tags[0]))\n",
        "print(\"Length of Tags for First Sentence \",len(encoded_tags[0]))"
      ],
      "execution_count": null,
      "outputs": [
        {
          "output_type": "stream",
          "name": "stdout",
          "text": [
            "First Sentence  Thousands of demonstrators have marched through London to protest the war in Iraq and demand the withdrawal of British troops from that country .\n",
            "First Sentence Original Tags  ['O', 'O', 'O', 'O', 'O', 'O', 'B-geo', 'O', 'O', 'O', 'O', 'O', 'B-geo', 'O', 'O', 'O', 'O', 'O', 'B-gpe', 'O', 'O', 'O', 'O', 'O']\n",
            "First Sentence Encoded Tags  [6, 6, 6, 6, 6, 6, 9, 6, 6, 6, 6, 6, 9, 6, 6, 6, 6, 6, 14, 6, 6, 6, 6, 6]\n",
            "Is length of Original Tags and Encoded Tags same  True\n",
            "Length of Tags for First Sentence  24\n"
          ]
        }
      ]
    },
    {
      "cell_type": "code",
      "metadata": {
        "id": "NyhzDRKm9zvE",
        "colab": {
          "base_uri": "https://localhost:8080/"
        },
        "outputId": "36155521-95d8-4263-8b70-a795223a32cd"
      },
      "source": [
        "max_sentence_length=max([len(s.split()) for s in sentences_list])\n",
        "print(max_sentence_length)"
      ],
      "execution_count": null,
      "outputs": [
        {
          "output_type": "stream",
          "name": "stdout",
          "text": [
            "70\n"
          ]
        }
      ]
    },
    {
      "cell_type": "code",
      "metadata": {
        "id": "PIOA5ETw-Uay",
        "colab": {
          "base_uri": "https://localhost:8080/"
        },
        "outputId": "2a51f1fd-71c1-4692-8809-5280def97e59"
      },
      "source": [
        "max_len=128\n",
        "from tensorflow.keras.preprocessing.sequence import pad_sequences\n",
        "from tensorflow.keras.utils import to_categorical\n",
        "\n",
        "padded_encoded_sentences=pad_sequences(maxlen=max_len,sequences=encoded_sentence,padding=\"post\",value=0)\n",
        "padded_encoded_tags=pad_sequences(maxlen=max_len,sequences=encoded_tags,padding=\"post\",value=tags_map['O'])\n",
        "\n",
        "print(\"Shape of Encoded Sentence \",padded_encoded_sentences.shape)\n",
        "print(\"Shape of Encoded Labels \",padded_encoded_tags.shape)\n",
        "\n",
        "print(\"First Encoded Sentence Without Padding \",encoded_sentence[0])\n",
        "print(\"First Encoded Sentence with padding \",padded_encoded_sentences[0])\n",
        "print(\"First Sentence Encoded Label without Padding \",encoded_tags[0])\n",
        "print(\"First Sentence Encoded Label with Padding \",padded_encoded_tags[0])"
      ],
      "execution_count": null,
      "outputs": [
        {
          "output_type": "stream",
          "name": "stdout",
          "text": [
            "Shape of Encoded Sentence  (9967, 128)\n",
            "Shape of Encoded Labels  (9967, 128)\n",
            "First Encoded Sentence Without Padding  [1096, 5, 1220, 16, 2023, 250, 622, 6, 520, 1, 174, 4, 56, 8, 860, 1, 941, 5, 189, 110, 21, 15, 52, 2]\n",
            "First Encoded Sentence with padding  [1096    5 1220   16 2023  250  622    6  520    1  174    4   56    8\n",
            "  860    1  941    5  189  110   21   15   52    2    0    0    0    0\n",
            "    0    0    0    0    0    0    0    0    0    0    0    0    0    0\n",
            "    0    0    0    0    0    0    0    0    0    0    0    0    0    0\n",
            "    0    0    0    0    0    0    0    0    0    0    0    0    0    0\n",
            "    0    0    0    0    0    0    0    0    0    0    0    0    0    0\n",
            "    0    0    0    0    0    0    0    0    0    0    0    0    0    0\n",
            "    0    0    0    0    0    0    0    0    0    0    0    0    0    0\n",
            "    0    0    0    0    0    0    0    0    0    0    0    0    0    0\n",
            "    0    0]\n",
            "First Sentence Encoded Label without Padding  [6, 6, 6, 6, 6, 6, 9, 6, 6, 6, 6, 6, 9, 6, 6, 6, 6, 6, 14, 6, 6, 6, 6, 6]\n",
            "First Sentence Encoded Label with Padding  [ 6  6  6  6  6  6  9  6  6  6  6  6  9  6  6  6  6  6 14  6  6  6  6  6\n",
            "  6  6  6  6  6  6  6  6  6  6  6  6  6  6  6  6  6  6  6  6  6  6  6  6\n",
            "  6  6  6  6  6  6  6  6  6  6  6  6  6  6  6  6  6  6  6  6  6  6  6  6\n",
            "  6  6  6  6  6  6  6  6  6  6  6  6  6  6  6  6  6  6  6  6  6  6  6  6\n",
            "  6  6  6  6  6  6  6  6  6  6  6  6  6  6  6  6  6  6  6  6  6  6  6  6\n",
            "  6  6  6  6  6  6  6  6]\n"
          ]
        }
      ]
    },
    {
      "cell_type": "code",
      "metadata": {
        "id": "9aqzkGpL-OEK",
        "colab": {
          "base_uri": "https://localhost:8080/"
        },
        "outputId": "17250022-25f9-4507-e8d1-4c2ba590e03d"
      },
      "source": [
        "target= [to_categorical(i,num_classes = num_tags) for i in  padded_encoded_tags]\n",
        "print(\"Shape of Labels  after converting to Categorical for first sentence \",target[0].shape)"
      ],
      "execution_count": null,
      "outputs": [
        {
          "output_type": "stream",
          "name": "stdout",
          "text": [
            "Shape of Labels  after converting to Categorical for first sentence  (128, 17)\n"
          ]
        }
      ]
    },
    {
      "cell_type": "code",
      "metadata": {
        "id": "qXKE9C7c93mq",
        "colab": {
          "base_uri": "https://localhost:8080/"
        },
        "outputId": "64e3239b-8b52-4e5c-ad78-d5f1f9c1f085"
      },
      "source": [
        "from sklearn.model_selection import train_test_split\n",
        "X_train,X_val_test,y_train,y_val_test = train_test_split(padded_encoded_sentences,target,test_size = 0.3,random_state=42)\n",
        "X_val,X_test,y_val,y_test = train_test_split(X_val_test,y_val_test,test_size = 0.2,random_state=42)\n",
        "print(\"Input Train Data Shape \",X_train.shape)\n",
        "print(\"Train Labels Length \",len(y_train))\n",
        "print(\"Input Test Data Shape \",X_test.shape)\n",
        "print(\"Test Labels Length \",len(y_test))\n",
        "\n",
        "print(\"Input Validation Data Shape \",X_val.shape)\n",
        "print(\"Validation Labels Length \",len(y_val))"
      ],
      "execution_count": null,
      "outputs": [
        {
          "output_type": "stream",
          "name": "stdout",
          "text": [
            "Input Train Data Shape  (33568, 128)\n",
            "Train Labels Length  33568\n",
            "Input Test Data Shape  (2878, 128)\n",
            "Test Labels Length  2878\n",
            "Input Validation Data Shape  (11509, 128)\n",
            "Validation Labels Length  11509\n"
          ]
        }
      ]
    },
    {
      "cell_type": "code",
      "metadata": {
        "id": "3S9h4mQmAl2E",
        "colab": {
          "base_uri": "https://localhost:8080/"
        },
        "outputId": "5d024e91-8429-41a9-89fe-a2a666c144e6"
      },
      "source": [
        "print(\"Shape of First Sentence -Train\",X_train[0].shape)\n",
        "print(\"Shape of First Sentence Label  -Train\",y_train[0].shape)"
      ],
      "execution_count": null,
      "outputs": [
        {
          "output_type": "stream",
          "name": "stdout",
          "text": [
            "Shape of First Sentence -Train (128,)\n",
            "Shape of First Sentence Label  -Train (128, 17)\n"
          ]
        }
      ]
    },
    {
      "cell_type": "markdown",
      "metadata": {
        "id": "OiOKaFvcArcs"
      },
      "source": [
        "**Building the Model using LSTM**"
      ]
    },
    {
      "cell_type": "code",
      "metadata": {
        "id": "EYm8OhH0AweU"
      },
      "source": [
        "from tensorflow.keras import Model,Input\n",
        "from tensorflow.keras.layers import LSTM,Embedding,Dense\n",
        "from tensorflow.keras.layers import TimeDistributed, SpatialDropout1D,Bidirectional"
      ],
      "execution_count": null,
      "outputs": []
    },
    {
      "cell_type": "code",
      "metadata": {
        "id": "ZassieepA2J2",
        "colab": {
          "base_uri": "https://localhost:8080/"
        },
        "outputId": "867cbf8c-df9e-482e-999e-a30f0a800d50"
      },
      "source": [
        "embedding_dim=128\n",
        "vocab_size=len(tokeniser.word_index)+1\n",
        "lstm_units=128\n",
        "max_len=128\n",
        "\n",
        "input_word = Input(shape = (max_len,))\n",
        "model = Embedding(input_dim = vocab_size+1,output_dim = embedding_dim,input_length = max_len)(input_word)\n",
        "\n",
        "model = LSTM(units=embedding_dim,return_sequences=True)(model)\n",
        "out = TimeDistributed(Dense(num_tags,activation = 'softmax'))(model)\n",
        "model = Model(input_word,out)\n",
        "model.summary()"
      ],
      "execution_count": null,
      "outputs": [
        {
          "output_type": "stream",
          "name": "stdout",
          "text": [
            "Model: \"model\"\n",
            "_________________________________________________________________\n",
            "Layer (type)                 Output Shape              Param #   \n",
            "=================================================================\n",
            "input_1 (InputLayer)         [(None, 128)]             0         \n",
            "_________________________________________________________________\n",
            "embedding (Embedding)        (None, 128, 128)          4501888   \n",
            "_________________________________________________________________\n",
            "lstm (LSTM)                  (None, 128, 128)          131584    \n",
            "_________________________________________________________________\n",
            "time_distributed (TimeDistri (None, 128, 17)           2193      \n",
            "=================================================================\n",
            "Total params: 4,635,665\n",
            "Trainable params: 4,635,665\n",
            "Non-trainable params: 0\n",
            "_________________________________________________________________\n"
          ]
        }
      ]
    },
    {
      "cell_type": "code",
      "metadata": {
        "id": "Dn368pB4A5uZ"
      },
      "source": [
        "model.compile(optimizer = 'adam',loss = 'categorical_crossentropy',metrics = ['accuracy'])"
      ],
      "execution_count": null,
      "outputs": []
    },
    {
      "cell_type": "code",
      "metadata": {
        "id": "kR2KKw6aA8tD",
        "colab": {
          "base_uri": "https://localhost:8080/"
        },
        "outputId": "397b15a3-6464-42e7-d29d-a88dcd886b50"
      },
      "source": [
        "history = model.fit(X_train,np.array(y_train),validation_data=(X_val,np.array(y_val)),batch_size = 32,epochs = 3)"
      ],
      "execution_count": null,
      "outputs": [
        {
          "output_type": "stream",
          "name": "stdout",
          "text": [
            "Epoch 1/3\n",
            "1049/1049 [==============================] - 220s 208ms/step - loss: 0.1034 - accuracy: 0.9799 - val_loss: 0.0413 - val_accuracy: 0.9900\n",
            "Epoch 2/3\n",
            "1049/1049 [==============================] - 218s 207ms/step - loss: 0.0277 - accuracy: 0.9926 - val_loss: 0.0252 - val_accuracy: 0.9928\n",
            "Epoch 3/3\n",
            "1049/1049 [==============================] - 217s 207ms/step - loss: 0.0185 - accuracy: 0.9944 - val_loss: 0.0232 - val_accuracy: 0.9931\n"
          ]
        }
      ]
    },
    {
      "cell_type": "markdown",
      "metadata": {
        "id": "x2vLNjlhBBaA"
      },
      "source": [
        "**Evaluating the Model**"
      ]
    },
    {
      "cell_type": "code",
      "metadata": {
        "id": "MtzeB2zgBKTs"
      },
      "source": [
        "preds=model.predict(X_test)"
      ],
      "execution_count": null,
      "outputs": []
    },
    {
      "cell_type": "code",
      "metadata": {
        "id": "Ini-Wc5DD6wU"
      },
      "source": [
        "def evaluatePredictions(test_data,preds,actual_preds):\n",
        "    print(\"Shape of Test Data Array\",test_data.shape)\n",
        "    y_actual=np.argmax(np.array(actual_preds),axis=2)\n",
        "    y_pred=np.argmax(preds,axis=2)\n",
        "    num_test_data=test_data.shape[0]\n",
        "    print(\"Number of Test Data Points \",num_test_data)\n",
        "    data=pd.DataFrame()\n",
        "    df_list=[]\n",
        "    for i in range(num_test_data):\n",
        "        test_str=list(test_data[i])\n",
        "        df=pd.DataFrame()\n",
        "        df['test_tokens']=test_str\n",
        "        df['tokens']=df['test_tokens'].apply(lambda x:tokeniser.index_word[x] if x!=0 else '<PAD>')\n",
        "        df['actual_target_index']=list(y_actual[i])\n",
        "        df['pred_target_index']=list(y_pred[i])\n",
        "        df['actual_target_tag']=df['actual_target_index'].apply(lambda x:reverse_tag_map[x])\n",
        "        df['pred_target_tag']=df['pred_target_index'].apply(lambda x:reverse_tag_map[x])\n",
        "        df['id']=i+1\n",
        "        df_list.append(df)\n",
        "    data=pd.concat(df_list)\n",
        "    pred_data=data[data['tokens']!='<PAD>']\n",
        "    accuracy=pred_data[pred_data['actual_target_tag']==pred_data['pred_target_tag']].shape[0]/pred_data.shape[0]\n",
        "\n",
        "\n",
        "    return pred_data,accuracy"
      ],
      "execution_count": null,
      "outputs": []
    },
    {
      "cell_type": "code",
      "metadata": {
        "id": "bwwZi6OZEBIW",
        "colab": {
          "base_uri": "https://localhost:8080/"
        },
        "outputId": "2941d37e-5b0f-4f73-e217-a5e55a9813a2"
      },
      "source": [
        "pred_data,accuracy=evaluatePredictions(X_test,preds,y_test)"
      ],
      "execution_count": null,
      "outputs": [
        {
          "output_type": "stream",
          "name": "stdout",
          "text": [
            "Shape of Test Data Array (2878, 128)\n",
            "Number of Test Data Points  2878\n"
          ]
        }
      ]
    },
    {
      "cell_type": "markdown",
      "metadata": {
        "id": "LWWmFl1AEMub"
      },
      "source": [
        "**calculate the precision and recall of each Class - and also the F-Score**"
      ]
    },
    {
      "cell_type": "code",
      "metadata": {
        "id": "pNEjwp8gELAb"
      },
      "source": [
        "y_pred=pred_data['pred_target_tag'].tolist()\n",
        "y_actual=pred_data['actual_target_tag'].tolist()"
      ],
      "execution_count": null,
      "outputs": []
    },
    {
      "cell_type": "code",
      "metadata": {
        "id": "gQvn91JrEW5r",
        "colab": {
          "base_uri": "https://localhost:8080/"
        },
        "outputId": "3c3982fd-dea3-4eb6-a5aa-3c95fc4d39ba"
      },
      "source": [
        "print(classification_report(y_actual,y_pred))"
      ],
      "execution_count": null,
      "outputs": [
        {
          "output_type": "stream",
          "name": "stderr",
          "text": [
            "/usr/local/lib/python3.7/dist-packages/sklearn/metrics/_classification.py:1272: UndefinedMetricWarning: Precision and F-score are ill-defined and being set to 0.0 in labels with no predicted samples. Use `zero_division` parameter to control this behavior.\n",
            "  _warn_prf(average, modifier, msg_start, len(result))\n"
          ]
        },
        {
          "output_type": "stream",
          "name": "stdout",
          "text": [
            "              precision    recall  f1-score   support\n",
            "\n",
            "       B-art       0.00      0.00      0.00        25\n",
            "       B-eve       1.00      0.21      0.35        19\n",
            "       B-geo       0.82      0.87      0.84      2190\n",
            "       B-gpe       0.93      0.91      0.92       909\n",
            "       B-nat       0.00      0.00      0.00         5\n",
            "       B-org       0.74      0.57      0.64      1170\n",
            "       B-per       0.82      0.82      0.82      1026\n",
            "       B-tim       0.91      0.81      0.86      1244\n",
            "       I-art       0.00      0.00      0.00        13\n",
            "       I-eve       0.00      0.00      0.00        17\n",
            "       I-geo       0.81      0.75      0.78       419\n",
            "       I-gpe       1.00      0.28      0.43        18\n",
            "       I-nat       0.00      0.00      0.00         1\n",
            "       I-org       0.82      0.71      0.76       995\n",
            "       I-per       0.86      0.89      0.88      1090\n",
            "       I-tim       0.73      0.65      0.69       386\n",
            "           O       0.98      0.99      0.99     53126\n",
            "\n",
            "    accuracy                           0.96     62653\n",
            "   macro avg       0.61      0.50      0.53     62653\n",
            "weighted avg       0.96      0.96      0.96     62653\n",
            "\n"
          ]
        }
      ]
    },
    {
      "cell_type": "code",
      "metadata": {
        "id": "r09v61dHEazl",
        "colab": {
          "base_uri": "https://localhost:8080/",
          "height": 825
        },
        "outputId": "ed4e520a-c182-42aa-f254-2e995b11ce0d"
      },
      "source": [
        "pred_data[pred_data['actual_target_tag']==\"B-art\"]"
      ],
      "execution_count": null,
      "outputs": [
        {
          "output_type": "execute_result",
          "data": {
            "text/html": [
              "<div>\n",
              "<style scoped>\n",
              "    .dataframe tbody tr th:only-of-type {\n",
              "        vertical-align: middle;\n",
              "    }\n",
              "\n",
              "    .dataframe tbody tr th {\n",
              "        vertical-align: top;\n",
              "    }\n",
              "\n",
              "    .dataframe thead th {\n",
              "        text-align: right;\n",
              "    }\n",
              "</style>\n",
              "<table border=\"1\" class=\"dataframe\">\n",
              "  <thead>\n",
              "    <tr style=\"text-align: right;\">\n",
              "      <th></th>\n",
              "      <th>test_tokens</th>\n",
              "      <th>tokens</th>\n",
              "      <th>actual_target_index</th>\n",
              "      <th>pred_target_index</th>\n",
              "      <th>actual_target_tag</th>\n",
              "      <th>pred_target_tag</th>\n",
              "      <th>id</th>\n",
              "    </tr>\n",
              "  </thead>\n",
              "  <tbody>\n",
              "    <tr>\n",
              "      <th>9</th>\n",
              "      <td>9370</td>\n",
              "      <td>Vioxx</td>\n",
              "      <td>13</td>\n",
              "      <td>10</td>\n",
              "      <td>B-art</td>\n",
              "      <td>B-org</td>\n",
              "      <td>27</td>\n",
              "    </tr>\n",
              "    <tr>\n",
              "      <th>11</th>\n",
              "      <td>3852</td>\n",
              "      <td>Camp</td>\n",
              "      <td>13</td>\n",
              "      <td>2</td>\n",
              "      <td>B-art</td>\n",
              "      <td>B-per</td>\n",
              "      <td>223</td>\n",
              "    </tr>\n",
              "    <tr>\n",
              "      <th>7</th>\n",
              "      <td>25979</td>\n",
              "      <td>alHurra</td>\n",
              "      <td>13</td>\n",
              "      <td>6</td>\n",
              "      <td>B-art</td>\n",
              "      <td>I-org</td>\n",
              "      <td>596</td>\n",
              "    </tr>\n",
              "    <tr>\n",
              "      <th>29</th>\n",
              "      <td>8157</td>\n",
              "      <td>Please</td>\n",
              "      <td>13</td>\n",
              "      <td>4</td>\n",
              "      <td>B-art</td>\n",
              "      <td>O</td>\n",
              "      <td>690</td>\n",
              "    </tr>\n",
              "    <tr>\n",
              "      <th>31</th>\n",
              "      <td>8157</td>\n",
              "      <td>Please</td>\n",
              "      <td>13</td>\n",
              "      <td>4</td>\n",
              "      <td>B-art</td>\n",
              "      <td>O</td>\n",
              "      <td>690</td>\n",
              "    </tr>\n",
              "    <tr>\n",
              "      <th>33</th>\n",
              "      <td>8157</td>\n",
              "      <td>Please</td>\n",
              "      <td>13</td>\n",
              "      <td>4</td>\n",
              "      <td>B-art</td>\n",
              "      <td>O</td>\n",
              "      <td>690</td>\n",
              "    </tr>\n",
              "    <tr>\n",
              "      <th>4</th>\n",
              "      <td>7382</td>\n",
              "      <td>Telegraph</td>\n",
              "      <td>13</td>\n",
              "      <td>8</td>\n",
              "      <td>B-art</td>\n",
              "      <td>B-geo</td>\n",
              "      <td>734</td>\n",
              "    </tr>\n",
              "    <tr>\n",
              "      <th>30</th>\n",
              "      <td>4008</td>\n",
              "      <td>Nuclear</td>\n",
              "      <td>13</td>\n",
              "      <td>10</td>\n",
              "      <td>B-art</td>\n",
              "      <td>B-org</td>\n",
              "      <td>776</td>\n",
              "    </tr>\n",
              "    <tr>\n",
              "      <th>5</th>\n",
              "      <td>30307</td>\n",
              "      <td>mon</td>\n",
              "      <td>13</td>\n",
              "      <td>4</td>\n",
              "      <td>B-art</td>\n",
              "      <td>O</td>\n",
              "      <td>858</td>\n",
              "    </tr>\n",
              "    <tr>\n",
              "      <th>5</th>\n",
              "      <td>20253</td>\n",
              "      <td>Soprano</td>\n",
              "      <td>13</td>\n",
              "      <td>2</td>\n",
              "      <td>B-art</td>\n",
              "      <td>B-per</td>\n",
              "      <td>1550</td>\n",
              "    </tr>\n",
              "    <tr>\n",
              "      <th>26</th>\n",
              "      <td>27681</td>\n",
              "      <td>Cajun</td>\n",
              "      <td>13</td>\n",
              "      <td>4</td>\n",
              "      <td>B-art</td>\n",
              "      <td>O</td>\n",
              "      <td>1739</td>\n",
              "    </tr>\n",
              "    <tr>\n",
              "      <th>20</th>\n",
              "      <td>4978</td>\n",
              "      <td>Canal</td>\n",
              "      <td>13</td>\n",
              "      <td>8</td>\n",
              "      <td>B-art</td>\n",
              "      <td>B-geo</td>\n",
              "      <td>1826</td>\n",
              "    </tr>\n",
              "    <tr>\n",
              "      <th>23</th>\n",
              "      <td>27801</td>\n",
              "      <td>Crank</td>\n",
              "      <td>13</td>\n",
              "      <td>4</td>\n",
              "      <td>B-art</td>\n",
              "      <td>O</td>\n",
              "      <td>1915</td>\n",
              "    </tr>\n",
              "    <tr>\n",
              "      <th>0</th>\n",
              "      <td>9625</td>\n",
              "      <td>Atlantis</td>\n",
              "      <td>13</td>\n",
              "      <td>4</td>\n",
              "      <td>B-art</td>\n",
              "      <td>O</td>\n",
              "      <td>1969</td>\n",
              "    </tr>\n",
              "    <tr>\n",
              "      <th>0</th>\n",
              "      <td>8739</td>\n",
              "      <td>Forbes</td>\n",
              "      <td>13</td>\n",
              "      <td>2</td>\n",
              "      <td>B-art</td>\n",
              "      <td>B-per</td>\n",
              "      <td>2041</td>\n",
              "    </tr>\n",
              "    <tr>\n",
              "      <th>2</th>\n",
              "      <td>2761</td>\n",
              "      <td>Panama</td>\n",
              "      <td>13</td>\n",
              "      <td>8</td>\n",
              "      <td>B-art</td>\n",
              "      <td>B-geo</td>\n",
              "      <td>2102</td>\n",
              "    </tr>\n",
              "    <tr>\n",
              "      <th>9</th>\n",
              "      <td>4978</td>\n",
              "      <td>Canal</td>\n",
              "      <td>13</td>\n",
              "      <td>8</td>\n",
              "      <td>B-art</td>\n",
              "      <td>B-geo</td>\n",
              "      <td>2102</td>\n",
              "    </tr>\n",
              "    <tr>\n",
              "      <th>0</th>\n",
              "      <td>744</td>\n",
              "      <td>GDP</td>\n",
              "      <td>13</td>\n",
              "      <td>4</td>\n",
              "      <td>B-art</td>\n",
              "      <td>O</td>\n",
              "      <td>2427</td>\n",
              "    </tr>\n",
              "    <tr>\n",
              "      <th>2</th>\n",
              "      <td>388</td>\n",
              "      <td>France</td>\n",
              "      <td>13</td>\n",
              "      <td>8</td>\n",
              "      <td>B-art</td>\n",
              "      <td>B-geo</td>\n",
              "      <td>2509</td>\n",
              "    </tr>\n",
              "    <tr>\n",
              "      <th>15</th>\n",
              "      <td>27543</td>\n",
              "      <td>K-4</td>\n",
              "      <td>13</td>\n",
              "      <td>4</td>\n",
              "      <td>B-art</td>\n",
              "      <td>O</td>\n",
              "      <td>2595</td>\n",
              "    </tr>\n",
              "    <tr>\n",
              "      <th>16</th>\n",
              "      <td>3236</td>\n",
              "      <td>Emergency</td>\n",
              "      <td>13</td>\n",
              "      <td>4</td>\n",
              "      <td>B-art</td>\n",
              "      <td>O</td>\n",
              "      <td>2617</td>\n",
              "    </tr>\n",
              "    <tr>\n",
              "      <th>3</th>\n",
              "      <td>5864</td>\n",
              "      <td>Hubble</td>\n",
              "      <td>13</td>\n",
              "      <td>10</td>\n",
              "      <td>B-art</td>\n",
              "      <td>B-org</td>\n",
              "      <td>2701</td>\n",
              "    </tr>\n",
              "    <tr>\n",
              "      <th>9</th>\n",
              "      <td>11995</td>\n",
              "      <td>Topol</td>\n",
              "      <td>13</td>\n",
              "      <td>6</td>\n",
              "      <td>B-art</td>\n",
              "      <td>I-org</td>\n",
              "      <td>2790</td>\n",
              "    </tr>\n",
              "    <tr>\n",
              "      <th>4</th>\n",
              "      <td>33041</td>\n",
              "      <td>Cy</td>\n",
              "      <td>13</td>\n",
              "      <td>4</td>\n",
              "      <td>B-art</td>\n",
              "      <td>O</td>\n",
              "      <td>2838</td>\n",
              "    </tr>\n",
              "    <tr>\n",
              "      <th>25</th>\n",
              "      <td>218</td>\n",
              "      <td>Washington</td>\n",
              "      <td>13</td>\n",
              "      <td>8</td>\n",
              "      <td>B-art</td>\n",
              "      <td>B-geo</td>\n",
              "      <td>2862</td>\n",
              "    </tr>\n",
              "  </tbody>\n",
              "</table>\n",
              "</div>"
            ],
            "text/plain": [
              "    test_tokens      tokens  ...  pred_target_tag    id\n",
              "9          9370       Vioxx  ...            B-org    27\n",
              "11         3852        Camp  ...            B-per   223\n",
              "7         25979     alHurra  ...            I-org   596\n",
              "29         8157      Please  ...                O   690\n",
              "31         8157      Please  ...                O   690\n",
              "33         8157      Please  ...                O   690\n",
              "4          7382   Telegraph  ...            B-geo   734\n",
              "30         4008     Nuclear  ...            B-org   776\n",
              "5         30307         mon  ...                O   858\n",
              "5         20253     Soprano  ...            B-per  1550\n",
              "26        27681       Cajun  ...                O  1739\n",
              "20         4978       Canal  ...            B-geo  1826\n",
              "23        27801       Crank  ...                O  1915\n",
              "0          9625    Atlantis  ...                O  1969\n",
              "0          8739      Forbes  ...            B-per  2041\n",
              "2          2761      Panama  ...            B-geo  2102\n",
              "9          4978       Canal  ...            B-geo  2102\n",
              "0           744         GDP  ...                O  2427\n",
              "2           388      France  ...            B-geo  2509\n",
              "15        27543         K-4  ...                O  2595\n",
              "16         3236   Emergency  ...                O  2617\n",
              "3          5864      Hubble  ...            B-org  2701\n",
              "9         11995       Topol  ...            I-org  2790\n",
              "4         33041          Cy  ...                O  2838\n",
              "25          218  Washington  ...            B-geo  2862\n",
              "\n",
              "[25 rows x 7 columns]"
            ]
          },
          "metadata": {},
          "execution_count": 38
        }
      ]
    },
    {
      "cell_type": "code",
      "metadata": {
        "id": "1Ed7x5p0EdhW",
        "colab": {
          "base_uri": "https://localhost:8080/",
          "height": 204
        },
        "outputId": "521b4afc-c567-4755-a923-2aa4d3af0408"
      },
      "source": [
        "pred_data[pred_data['actual_target_tag']==\"B-nat\"]"
      ],
      "execution_count": null,
      "outputs": [
        {
          "output_type": "execute_result",
          "data": {
            "text/html": [
              "<div>\n",
              "<style scoped>\n",
              "    .dataframe tbody tr th:only-of-type {\n",
              "        vertical-align: middle;\n",
              "    }\n",
              "\n",
              "    .dataframe tbody tr th {\n",
              "        vertical-align: top;\n",
              "    }\n",
              "\n",
              "    .dataframe thead th {\n",
              "        text-align: right;\n",
              "    }\n",
              "</style>\n",
              "<table border=\"1\" class=\"dataframe\">\n",
              "  <thead>\n",
              "    <tr style=\"text-align: right;\">\n",
              "      <th></th>\n",
              "      <th>test_tokens</th>\n",
              "      <th>tokens</th>\n",
              "      <th>actual_target_index</th>\n",
              "      <th>pred_target_index</th>\n",
              "      <th>actual_target_tag</th>\n",
              "      <th>pred_target_tag</th>\n",
              "      <th>id</th>\n",
              "    </tr>\n",
              "  </thead>\n",
              "  <tbody>\n",
              "    <tr>\n",
              "      <th>11</th>\n",
              "      <td>950</td>\n",
              "      <td>Katrina</td>\n",
              "      <td>3</td>\n",
              "      <td>4</td>\n",
              "      <td>B-nat</td>\n",
              "      <td>O</td>\n",
              "      <td>637</td>\n",
              "    </tr>\n",
              "    <tr>\n",
              "      <th>6</th>\n",
              "      <td>4013</td>\n",
              "      <td>Rita</td>\n",
              "      <td>3</td>\n",
              "      <td>8</td>\n",
              "      <td>B-nat</td>\n",
              "      <td>B-geo</td>\n",
              "      <td>749</td>\n",
              "    </tr>\n",
              "    <tr>\n",
              "      <th>18</th>\n",
              "      <td>10325</td>\n",
              "      <td>H5N2</td>\n",
              "      <td>3</td>\n",
              "      <td>4</td>\n",
              "      <td>B-nat</td>\n",
              "      <td>O</td>\n",
              "      <td>1508</td>\n",
              "    </tr>\n",
              "    <tr>\n",
              "      <th>18</th>\n",
              "      <td>10325</td>\n",
              "      <td>H5N2</td>\n",
              "      <td>3</td>\n",
              "      <td>4</td>\n",
              "      <td>B-nat</td>\n",
              "      <td>O</td>\n",
              "      <td>1717</td>\n",
              "    </tr>\n",
              "    <tr>\n",
              "      <th>24</th>\n",
              "      <td>827</td>\n",
              "      <td>Hurricane</td>\n",
              "      <td>3</td>\n",
              "      <td>4</td>\n",
              "      <td>B-nat</td>\n",
              "      <td>O</td>\n",
              "      <td>2205</td>\n",
              "    </tr>\n",
              "  </tbody>\n",
              "</table>\n",
              "</div>"
            ],
            "text/plain": [
              "    test_tokens     tokens  ...  pred_target_tag    id\n",
              "11          950    Katrina  ...                O   637\n",
              "6          4013       Rita  ...            B-geo   749\n",
              "18        10325       H5N2  ...                O  1508\n",
              "18        10325       H5N2  ...                O  1717\n",
              "24          827  Hurricane  ...                O  2205\n",
              "\n",
              "[5 rows x 7 columns]"
            ]
          },
          "metadata": {},
          "execution_count": 39
        }
      ]
    }
  ]
}